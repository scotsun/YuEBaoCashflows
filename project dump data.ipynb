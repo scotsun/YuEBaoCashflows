{
 "cells": [
  {
   "cell_type": "code",
   "execution_count": 29,
   "metadata": {},
   "outputs": [],
   "source": [
    "import pandas as pd\n",
    "from sshtunnel import SSHTunnelForwarder\n",
    "from pymongo import MongoClient\n",
    "from pymongo.errors import OperationFailure, DuplicateKeyError\n",
    "import names\n",
    "from tqdm import tqdm"
   ]
  },
  {
   "cell_type": "code",
   "execution_count": 19,
   "metadata": {},
   "outputs": [],
   "source": [
    "profile = pd.read_csv('../YuEBaoCashflows/Purchase Redemption Data/user_profile_table.csv')"
   ]
  },
  {
   "cell_type": "code",
   "execution_count": 20,
   "metadata": {},
   "outputs": [],
   "source": [
    "def generate_customer_dict(user_id, profile_tbl):\n",
    "    customer_dict = dict()\n",
    "    customer_row = profile_tbl.loc[profile_tbl['user_id'] == user_id].iloc[0]\n",
    "    customer_dict['user_id'] = int(customer_row['user_id'])\n",
    "    customer_dict['gender'] = 'male' if int(customer_row['sex']) == 1 else 'female'\n",
    "    customer_dict['name'] = names.get_full_name(gender=customer_dict['gender'])\n",
    "    customer_dict['city'] = customer_row['city']\n",
    "    customer_dict['constellation'] = customer_row['constellation']\n",
    "    return customer_dict"
   ]
  },
  {
   "cell_type": "code",
   "execution_count": 5,
   "metadata": {},
   "outputs": [],
   "source": [
    "server = SSHTunnelForwarder(\n",
    "    \"35.223.217.140\",\n",
    "    ssh_username=\"apple\",\n",
    "    ssh_pkey=\"/Users/apple/Desktop/CSSE433/project-cli-keys/key-instance-1\",\n",
    "    ssh_private_key_password=\"csse433\",\n",
    "    remote_bind_address=(\"10.128.0.6\", 40000)\n",
    ")\n",
    "server.start()\n",
    "host = \"localhost\"\n",
    "port = server.local_bind_port\n",
    "try:\n",
    "    cli = MongoClient(f'mongodb://{host}:{port}/?authSource=admin')\n",
    "    cli.server_info()\n",
    "except OperationFailure as err:\n",
    "    print(err)"
   ]
  },
  {
   "cell_type": "code",
   "execution_count": 22,
   "metadata": {},
   "outputs": [],
   "source": [
    "db = cli['yuebao']\n",
    "customers = db['customer']"
   ]
  },
  {
   "cell_type": "code",
   "execution_count": 26,
   "metadata": {},
   "outputs": [
    {
     "name": "stdout",
     "output_type": "stream",
     "text": [
      "duplicated id\n"
     ]
    }
   ],
   "source": [
    "try:\n",
    "    customers.insert(generate_customer_dict(1, profile))\n",
    "except DuplicateKeyError:\n",
    "    print(\"duplicated id\")"
   ]
  },
  {
   "cell_type": "code",
   "execution_count": null,
   "metadata": {},
   "outputs": [],
   "source": []
  },
  {
   "cell_type": "code",
   "execution_count": 31,
   "metadata": {},
   "outputs": [
    {
     "name": "stderr",
     "output_type": "stream",
     "text": [
      "100%|██████████| 28041/28041 [28:52<00:00, 16.18it/s]  \n"
     ]
    }
   ],
   "source": [
    "for uid in tqdm(profile['user_id'].values):\n",
    "    customers.insert_one(generate_customer_dict(uid, profile))"
   ]
  },
  {
   "cell_type": "code",
   "execution_count": null,
   "metadata": {},
   "outputs": [],
   "source": []
  }
 ],
 "metadata": {
  "kernelspec": {
   "display_name": "Python 3",
   "language": "python",
   "name": "python3"
  },
  "language_info": {
   "codemirror_mode": {
    "name": "ipython",
    "version": 3
   },
   "file_extension": ".py",
   "mimetype": "text/x-python",
   "name": "python",
   "nbconvert_exporter": "python",
   "pygments_lexer": "ipython3",
   "version": "3.8.5"
  }
 },
 "nbformat": 4,
 "nbformat_minor": 4
}
